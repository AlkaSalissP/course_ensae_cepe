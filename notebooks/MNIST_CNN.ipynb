{
 "cells": [
  {
   "cell_type": "markdown",
   "metadata": {},
   "source": [
    "<center><font color=\"darkred\"><h1 id=\"header\">Handwritten digit recognizer</h1></font></center>\n",
    "\n",
    "This notebook is an example of how we can implement deep learning models using Keras (wrapper for tensorflow).\n",
    "Here we use the famous MNIST data set. We will see how to implement: Complexified CNN: batch-norm + data augmentation + dropout. Further, we'll test transfer learning approach using vgg16 as a pretrained model.\n",
    "\n",
    " <b>Contents:</b>\n",
    "* A. Simple neuron (vanilla approach)\n",
    "* B. MLP\n",
    "* C. MLP with Dropout + BatchNorm\n",
    "* D. CNN with Dropout + BatchNorm + DataAugmentation\n",
    "\n",
    "### Importing utils and libraries"
   ]
  },
  {
   "cell_type": "code",
   "execution_count": 1,
   "metadata": {
    "collapsed": false
   },
   "outputs": [
    {
     "name": "stderr",
     "output_type": "stream",
     "text": [
      "Using TensorFlow backend.\n"
     ]
    }
   ],
   "source": [
    "%matplotlib inline\n",
    "from utils import *\n",
    "from __future__ import division, print_function\n",
    "from keras.backend.tensorflow_backend import set_session\n",
    "from keras.datasets import mnist"
   ]
  },
  {
   "cell_type": "code",
   "execution_count": 2,
   "metadata": {
    "collapsed": false
   },
   "outputs": [],
   "source": [
    "config = tf.ConfigProto()\n",
    "config.gpu_options.per_process_gpu_memory_fraction = 0.5\n",
    "set_session(tf.Session(config=config))"
   ]
  },
  {
   "cell_type": "markdown",
   "metadata": {},
   "source": [
    "# Download of Data and Viz\n",
    "### What does it look like ?"
   ]
  },
  {
   "cell_type": "code",
   "execution_count": 3,
   "metadata": {
    "collapsed": false
   },
   "outputs": [
    {
     "data": {
      "image/png": "[encoded data removed]",
      "text/plain": [
       "<matplotlib.figure.Figure at 0x7f78f1895c50>"
      ]
     },
     "metadata": {},
     "output_type": "display_data"
    }
   ],
   "source": [
    "(x_train,y_train),(x_test,y_test) = mnist.load_data()\n",
    "\n",
    "fig, ax = plt.subplots(nrows=2,ncols=10,figsize=(20,5))\n",
    "ax = ax.ravel()\n",
    "\n",
    "for i in range(20):\n",
    "    ax[i].imshow(x_train[i],cmap = plt.get_cmap('gray'))"
   ]
  },
  {
   "cell_type": "markdown",
   "metadata": {},
   "source": [
    "# A. Simple Neuron\n",
    "Let's begin wih a simple neuron using a softmax activation function. Remember it's a vanilla approach ;)"
   ]
  },
  {
   "cell_type": "code",
   "execution_count": 4,
   "metadata": {
    "collapsed": false
   },
   "outputs": [
    {
     "name": "stdout",
     "output_type": "stream",
     "text": [
      "Number of categories: 10\n"
     ]
    }
   ],
   "source": [
    "# download of data\n",
    "(x_train,y_train),(x_test,y_test) = mnist.load_data()\n",
    "\n",
    "# obtaining a vector of 784 for the 28x28 images\n",
    "num_pixels = x_train.shape[1] * x_train.shape[2]\n",
    "x_train = x_train.reshape(x_train.shape[0], num_pixels).astype('float32')\n",
    "x_test = x_test.reshape(x_test.shape[0], num_pixels).astype('float32')\n",
    "\n",
    "# normalizing between 0 and 1\n",
    "x_train = x_train / 255\n",
    "x_test = x_test / 255\n",
    "\n",
    "y_train = np_utils.to_categorical(y_train)\n",
    "y_test = np_utils.to_categorical(y_test)\n",
    "print('Number of categories:',y_train.shape[1])"
   ]
  },
  {
   "cell_type": "markdown",
   "metadata": {},
   "source": [
    "#### Defining model"
   ]
  },
  {
   "cell_type": "code",
   "execution_count": 5,
   "metadata": {
    "collapsed": false
   },
   "outputs": [
    {
     "name": "stdout",
     "output_type": "stream",
     "text": [
      "_________________________________________________________________\n",
      "Layer (type)                 Output Shape              Param #   \n",
      "=================================================================\n",
      "dense_1 (Dense)              (None, 10)                7850      \n",
      "=================================================================\n",
      "Total params: 7,850.0\n",
      "Trainable params: 7,850\n",
      "Non-trainable params: 0.0\n",
      "_________________________________________________________________\n"
     ]
    }
   ],
   "source": [
    "def neuron_vanilla():\n",
    "    model = Sequential()\n",
    "    \n",
    "    model.add(Dense(10,activation='softmax',input_dim=num_pixels))\n",
    "    \n",
    "    model.compile(optimizer='adam',loss='categorical_crossentropy',metrics=['accuracy'])\n",
    "    return model\n",
    "\n",
    "model = neuron_vanilla()\n",
    "model.summary()"
   ]
  },
  {
   "cell_type": "markdown",
   "metadata": {},
   "source": [
    "#### Fitting"
   ]
  },
  {
   "cell_type": "code",
   "execution_count": 6,
   "metadata": {
    "collapsed": false
   },
   "outputs": [
    {
     "name": "stdout",
     "output_type": "stream",
     "text": [
      "Train on 60000 samples, validate on 10000 samples\n",
      "Epoch 1/10\n",
      "60000/60000 [==============================] - 3s - loss: 0.5477 - acc: 0.8624 - val_loss: 0.3323 - val_acc: 0.9116\n",
      "Epoch 2/10\n",
      "60000/60000 [==============================] - 3s - loss: 0.3242 - acc: 0.9105 - val_loss: 0.2938 - val_acc: 0.9195\n",
      "Epoch 3/10\n",
      "60000/60000 [==============================] - 3s - loss: 0.2959 - acc: 0.9174 - val_loss: 0.2807 - val_acc: 0.9226\n",
      "Epoch 4/10\n",
      "60000/60000 [==============================] - 3s - loss: 0.2823 - acc: 0.9210 - val_loss: 0.2728 - val_acc: 0.9239\n",
      "Epoch 5/10\n",
      "60000/60000 [==============================] - 3s - loss: 0.2738 - acc: 0.9231 - val_loss: 0.2721 - val_acc: 0.9251\n",
      "Epoch 6/10\n",
      "60000/60000 [==============================] - 3s - loss: 0.2682 - acc: 0.9246 - val_loss: 0.2668 - val_acc: 0.9261\n",
      "Epoch 7/10\n",
      "60000/60000 [==============================] - 3s - loss: 0.2635 - acc: 0.9270 - val_loss: 0.2674 - val_acc: 0.9255\n",
      "Epoch 8/10\n",
      "60000/60000 [==============================] - 2s - loss: 0.2600 - acc: 0.9273 - val_loss: 0.2666 - val_acc: 0.9263\n",
      "Epoch 9/10\n",
      "60000/60000 [==============================] - 2s - loss: 0.2571 - acc: 0.9287 - val_loss: 0.2641 - val_acc: 0.9274\n",
      "Epoch 10/10\n",
      "60000/60000 [==============================] - 2s - loss: 0.2546 - acc: 0.9288 - val_loss: 0.2649 - val_acc: 0.9280\n"
     ]
    },
    {
     "data": {
      "text/plain": [
       "<keras.callbacks.History at 0x7f78eab9ebe0>"
      ]
     },
     "execution_count": 6,
     "metadata": {},
     "output_type": "execute_result"
    }
   ],
   "source": [
    "model.fit(x_train,y_train, validation_data =(x_test,y_test),epochs=10,batch_size=64, verbose=True)"
   ]
  },
  {
   "cell_type": "markdown",
   "metadata": {},
   "source": [
    "#### Evaluate"
   ]
  },
  {
   "cell_type": "code",
   "execution_count": 7,
   "metadata": {
    "collapsed": false
   },
   "outputs": [
    {
     "name": "stdout",
     "output_type": "stream",
     "text": [
      "loss:  0.264919473314 - accuracy:  0.928\n"
     ]
    }
   ],
   "source": [
    "scores = model.evaluate(x_test,y_test,verbose=0)\n",
    "print('loss: ', scores[0],'- accuracy: ', scores[1])"
   ]
  },
  {
   "cell_type": "markdown",
   "metadata": {},
   "source": [
    "# B. MLP - first approach \n",
    "Let's opt for a simple MLP, with 2 hidden layers and 256 hidden units per layer."
   ]
  },
  {
   "cell_type": "code",
   "execution_count": 8,
   "metadata": {
    "collapsed": false
   },
   "outputs": [
    {
     "name": "stdout",
     "output_type": "stream",
     "text": [
      "_________________________________________________________________\n",
      "Layer (type)                 Output Shape              Param #   \n",
      "=================================================================\n",
      "dense_2 (Dense)              (None, 256)               200960    \n",
      "_________________________________________________________________\n",
      "dense_3 (Dense)              (None, 256)               65792     \n",
      "_________________________________________________________________\n",
      "dense_4 (Dense)              (None, 10)                2570      \n",
      "=================================================================\n",
      "Total params: 269,322.0\n",
      "Trainable params: 269,322\n",
      "Non-trainable params: 0.0\n",
      "_________________________________________________________________\n"
     ]
    }
   ],
   "source": [
    "def MLP():\n",
    "    model = Sequential()\n",
    "    \n",
    "    model.add(Dense(256,activation='relu',input_dim=num_pixels))\n",
    "    model.add(Dense(256,activation='relu'))\n",
    "    \n",
    "    model.add(Dense(10,activation='softmax'))\n",
    "    \n",
    "    model.compile(optimizer='adam',loss='categorical_crossentropy',metrics=['accuracy'])\n",
    "    return model\n",
    "\n",
    "model = MLP()\n",
    "model.summary()"
   ]
  },
  {
   "cell_type": "markdown",
   "metadata": {},
   "source": [
    "#### Fitting"
   ]
  },
  {
   "cell_type": "code",
   "execution_count": 9,
   "metadata": {
    "collapsed": false
   },
   "outputs": [
    {
     "name": "stdout",
     "output_type": "stream",
     "text": [
      "Train on 60000 samples, validate on 10000 samples\n",
      "Epoch 1/10\n",
      "60000/60000 [==============================] - 4s - loss: 0.2230 - acc: 0.9352 - val_loss: 0.1010 - val_acc: 0.9693\n",
      "Epoch 2/10\n",
      "60000/60000 [==============================] - 4s - loss: 0.0845 - acc: 0.9746 - val_loss: 0.0755 - val_acc: 0.9749\n",
      "Epoch 3/10\n",
      "60000/60000 [==============================] - 4s - loss: 0.0560 - acc: 0.9825 - val_loss: 0.0713 - val_acc: 0.9781\n",
      "Epoch 4/10\n",
      "60000/60000 [==============================] - 4s - loss: 0.0409 - acc: 0.9870 - val_loss: 0.0880 - val_acc: 0.9737\n",
      "Epoch 5/10\n",
      "60000/60000 [==============================] - 4s - loss: 0.0324 - acc: 0.9897 - val_loss: 0.0716 - val_acc: 0.9784\n",
      "Epoch 6/10\n",
      "60000/60000 [==============================] - 4s - loss: 0.0234 - acc: 0.9920 - val_loss: 0.0764 - val_acc: 0.9801\n",
      "Epoch 7/10\n",
      "60000/60000 [==============================] - 4s - loss: 0.0242 - acc: 0.9918 - val_loss: 0.0793 - val_acc: 0.9795\n",
      "Epoch 8/10\n",
      "60000/60000 [==============================] - 4s - loss: 0.0174 - acc: 0.9942 - val_loss: 0.0921 - val_acc: 0.9762\n",
      "Epoch 9/10\n",
      "60000/60000 [==============================] - 4s - loss: 0.0138 - acc: 0.9955 - val_loss: 0.1091 - val_acc: 0.9773\n",
      "Epoch 10/10\n",
      "60000/60000 [==============================] - 4s - loss: 0.0152 - acc: 0.9950 - val_loss: 0.0888 - val_acc: 0.9780\n"
     ]
    },
    {
     "data": {
      "text/plain": [
       "<keras.callbacks.History at 0x7f78e94a07b8>"
      ]
     },
     "execution_count": 9,
     "metadata": {},
     "output_type": "execute_result"
    }
   ],
   "source": [
    "model.fit(x_train,y_train, validation_data =(x_test,y_test),epochs=10,batch_size=64, verbose=True)"
   ]
  },
  {
   "cell_type": "markdown",
   "metadata": {},
   "source": [
    "#### Evaluating"
   ]
  },
  {
   "cell_type": "code",
   "execution_count": 10,
   "metadata": {
    "collapsed": false
   },
   "outputs": [
    {
     "name": "stdout",
     "output_type": "stream",
     "text": [
      "loss:  0.0887658949246 - accuracy:  0.978\n"
     ]
    }
   ],
   "source": [
    "scores = model.evaluate(x_test,y_test,verbose=0)\n",
    "print('loss: ', scores[0],'- accuracy: ', scores[1])"
   ]
  },
  {
   "cell_type": "markdown",
   "metadata": {},
   "source": [
    "# C. MLP - Dropout and Batch-Norm\n",
    "Let's opt for a Dropout and BatchNormalization for reducing overfitting."
   ]
  },
  {
   "cell_type": "code",
   "execution_count": 11,
   "metadata": {
    "collapsed": false
   },
   "outputs": [
    {
     "name": "stdout",
     "output_type": "stream",
     "text": [
      "_________________________________________________________________\n",
      "Layer (type)                 Output Shape              Param #   \n",
      "=================================================================\n",
      "dense_5 (Dense)              (None, 256)               200960    \n",
      "_________________________________________________________________\n",
      "batch_normalization_1 (Batch (None, 256)               1024      \n",
      "_________________________________________________________________\n",
      "dropout_1 (Dropout)          (None, 256)               0         \n",
      "_________________________________________________________________\n",
      "dense_6 (Dense)              (None, 256)               65792     \n",
      "_________________________________________________________________\n",
      "batch_normalization_2 (Batch (None, 256)               1024      \n",
      "_________________________________________________________________\n",
      "dropout_2 (Dropout)          (None, 256)               0         \n",
      "_________________________________________________________________\n",
      "dense_7 (Dense)              (None, 10)                2570      \n",
      "=================================================================\n",
      "Total params: 271,370.0\n",
      "Trainable params: 270,346.0\n",
      "Non-trainable params: 1,024.0\n",
      "_________________________________________________________________\n"
     ]
    }
   ],
   "source": [
    "def MLP_b():\n",
    "    model = Sequential()\n",
    "\n",
    "    model.add(Dense(256,activation='relu', input_dim=num_pixels))\n",
    "    model.add(BatchNormalization())\n",
    "    model.add(Dropout(0.25))\n",
    "              \n",
    "    model.add(Dense(256,activation='relu'))\n",
    "    model.add(BatchNormalization())\n",
    "    model.add(Dropout(0.25))\n",
    "    \n",
    "    model.add(Dense(10,activation='softmax'))\n",
    "    \n",
    "    model.compile(optimizer='adam',loss='categorical_crossentropy',metrics=['accuracy'])\n",
    "    return model\n",
    "\n",
    "model = MLP_b()\n",
    "model.summary()"
   ]
  },
  {
   "cell_type": "markdown",
   "metadata": {},
   "source": [
    "#### Fitting"
   ]
  },
  {
   "cell_type": "code",
   "execution_count": 12,
   "metadata": {
    "collapsed": false
   },
   "outputs": [
    {
     "name": "stdout",
     "output_type": "stream",
     "text": [
      "Train on 60000 samples, validate on 10000 samples\n",
      "Epoch 1/15\n",
      "60000/60000 [==============================] - 8s - loss: 0.2725 - acc: 0.9172 - val_loss: 0.1199 - val_acc: 0.9637\n",
      "Epoch 2/15\n",
      "60000/60000 [==============================] - 7s - loss: 0.1390 - acc: 0.9565 - val_loss: 0.0964 - val_acc: 0.9693\n",
      "Epoch 3/15\n",
      "60000/60000 [==============================] - 7s - loss: 0.1115 - acc: 0.9651 - val_loss: 0.0820 - val_acc: 0.9744\n",
      "Epoch 4/15\n",
      "60000/60000 [==============================] - 7s - loss: 0.0970 - acc: 0.9690 - val_loss: 0.0737 - val_acc: 0.9772\n",
      "Epoch 5/15\n",
      "60000/60000 [==============================] - 7s - loss: 0.0826 - acc: 0.9738 - val_loss: 0.0690 - val_acc: 0.9769\n",
      "Epoch 6/15\n",
      "60000/60000 [==============================] - 7s - loss: 0.0778 - acc: 0.9751 - val_loss: 0.0637 - val_acc: 0.9787\n",
      "Epoch 7/15\n",
      "60000/60000 [==============================] - 7s - loss: 0.0682 - acc: 0.9780 - val_loss: 0.0608 - val_acc: 0.9804\n",
      "Epoch 8/15\n",
      "60000/60000 [==============================] - 7s - loss: 0.0606 - acc: 0.9802 - val_loss: 0.0639 - val_acc: 0.9804\n",
      "Epoch 9/15\n",
      "60000/60000 [==============================] - 7s - loss: 0.0584 - acc: 0.9805 - val_loss: 0.0627 - val_acc: 0.9806\n",
      "Epoch 10/15\n",
      "60000/60000 [==============================] - 7s - loss: 0.0532 - acc: 0.9826 - val_loss: 0.0615 - val_acc: 0.9810\n",
      "Epoch 11/15\n",
      "60000/60000 [==============================] - 7s - loss: 0.0504 - acc: 0.9831 - val_loss: 0.0590 - val_acc: 0.9821\n",
      "Epoch 12/15\n",
      "60000/60000 [==============================] - 7s - loss: 0.0460 - acc: 0.9852 - val_loss: 0.0592 - val_acc: 0.9830\n",
      "Epoch 13/15\n",
      "60000/60000 [==============================] - 7s - loss: 0.0426 - acc: 0.9855 - val_loss: 0.0658 - val_acc: 0.9811\n",
      "Epoch 14/15\n",
      "60000/60000 [==============================] - 7s - loss: 0.0417 - acc: 0.9862 - val_loss: 0.0609 - val_acc: 0.9816\n",
      "Epoch 15/15\n",
      "60000/60000 [==============================] - 7s - loss: 0.0407 - acc: 0.9869 - val_loss: 0.0606 - val_acc: 0.9825\n"
     ]
    },
    {
     "data": {
      "text/plain": [
       "<keras.callbacks.History at 0x7f78e8423be0>"
      ]
     },
     "execution_count": 12,
     "metadata": {},
     "output_type": "execute_result"
    }
   ],
   "source": [
    "model.fit(x_train,y_train, validation_data =(x_test,y_test),epochs=15,batch_size=64, verbose=True)"
   ]
  },
  {
   "cell_type": "markdown",
   "metadata": {},
   "source": [
    "#### Evaluating"
   ]
  },
  {
   "cell_type": "code",
   "execution_count": 13,
   "metadata": {
    "collapsed": false
   },
   "outputs": [
    {
     "name": "stdout",
     "output_type": "stream",
     "text": [
      "loss:  0.0606030175272 - accuracy:  0.9825\n"
     ]
    }
   ],
   "source": [
    "scores = model.evaluate(x_test,y_test,verbose=0)\n",
    "print('loss: ', scores[0],'- accuracy: ', scores[1])"
   ]
  },
  {
   "cell_type": "markdown",
   "metadata": {},
   "source": [
    "# D. Complexified CNN \n",
    "With Data-Augmentation - Batch-Normalization + Dropout + Conv2D + MaxPooling2D"
   ]
  },
  {
   "cell_type": "markdown",
   "metadata": {},
   "source": [
    "#### Reshaping data\n",
    "Here we take the images as a matrix of shape (height, width, depth)"
   ]
  },
  {
   "cell_type": "code",
   "execution_count": 14,
   "metadata": {
    "collapsed": true
   },
   "outputs": [],
   "source": [
    "# Downloading data\n",
    "(x_train,y_train),(x_test,y_test) = mnist.load_data()\n",
    "\n",
    "# reshaping the images for the conv2D (channels last)\n",
    "x_train = x_train.reshape(x_train.shape[0],28,28,1).astype('float32')\n",
    "x_test = x_test.reshape(x_test.shape[0],28,28,1).astype('float32')\n",
    "\n",
    "# one hot encode for the categories\n",
    "y_train = np_utils.to_categorical(y_train)\n",
    "y_test = np_utils.to_categorical(y_test)"
   ]
  },
  {
   "cell_type": "markdown",
   "metadata": {},
   "source": [
    "### Data augmentation"
   ]
  },
  {
   "cell_type": "code",
   "execution_count": 15,
   "metadata": {
    "collapsed": false
   },
   "outputs": [],
   "source": [
    "batch_size = 64\n",
    "train_samples = x_train.shape[0]\n",
    "validation_samples = x_test.shape[0]\n",
    "\n",
    "data_gen_train = ImageDataGenerator(rescale=1./255,\n",
    "                              rotation_range=8,\n",
    "                              width_shift_range=0.1,\n",
    "                              height_shift_range=0.1,\n",
    "                              shear_range=0.3,\n",
    "                              zoom_range=0.1,\n",
    "                              horizontal_flip=False)\n",
    "\n",
    "data_gen_test = ImageDataGenerator(rescale=1./255)\n",
    "\n",
    "train_generator = data_gen_train.flow(x_train, y_train, batch_size = batch_size)\n",
    "validation_generator = data_gen_test.flow(x_test, y_test, batch_size = batch_size)"
   ]
  },
  {
   "cell_type": "markdown",
   "metadata": {},
   "source": [
    "### Defining model"
   ]
  },
  {
   "cell_type": "code",
   "execution_count": 16,
   "metadata": {
    "collapsed": false
   },
   "outputs": [
    {
     "name": "stdout",
     "output_type": "stream",
     "text": [
      "_________________________________________________________________\n",
      "Layer (type)                 Output Shape              Param #   \n",
      "=================================================================\n",
      "conv2d_1 (Conv2D)            (None, 24, 24, 32)        832       \n",
      "_________________________________________________________________\n",
      "batch_normalization_3 (Batch (None, 24, 24, 32)        128       \n",
      "_________________________________________________________________\n",
      "conv2d_2 (Conv2D)            (None, 20, 20, 32)        25632     \n",
      "_________________________________________________________________\n",
      "max_pooling2d_1 (MaxPooling2 (None, 10, 10, 32)        0         \n",
      "_________________________________________________________________\n",
      "batch_normalization_4 (Batch (None, 10, 10, 32)        128       \n",
      "_________________________________________________________________\n",
      "conv2d_3 (Conv2D)            (None, 8, 8, 64)          18496     \n",
      "_________________________________________________________________\n",
      "batch_normalization_5 (Batch (None, 8, 8, 64)          256       \n",
      "_________________________________________________________________\n",
      "conv2d_4 (Conv2D)            (None, 6, 6, 64)          36928     \n",
      "_________________________________________________________________\n",
      "max_pooling2d_2 (MaxPooling2 (None, 3, 3, 64)          0         \n",
      "_________________________________________________________________\n",
      "batch_normalization_6 (Batch (None, 3, 3, 64)          256       \n",
      "_________________________________________________________________\n",
      "flatten_1 (Flatten)          (None, 576)               0         \n",
      "_________________________________________________________________\n",
      "dense_8 (Dense)              (None, 128)               73856     \n",
      "_________________________________________________________________\n",
      "batch_normalization_7 (Batch (None, 128)               512       \n",
      "_________________________________________________________________\n",
      "dropout_3 (Dropout)          (None, 128)               0         \n",
      "_________________________________________________________________\n",
      "dense_9 (Dense)              (None, 128)               16512     \n",
      "_________________________________________________________________\n",
      "batch_normalization_8 (Batch (None, 128)               512       \n",
      "_________________________________________________________________\n",
      "dropout_4 (Dropout)          (None, 128)               0         \n",
      "_________________________________________________________________\n",
      "dense_10 (Dense)             (None, 10)                1290      \n",
      "=================================================================\n",
      "Total params: 175,338.0\n",
      "Trainable params: 174,442.0\n",
      "Non-trainable params: 896.0\n",
      "_________________________________________________________________\n"
     ]
    }
   ],
   "source": [
    "def complex_conv_model():\n",
    "    \n",
    "    # creating the convnet model\n",
    "    model = Sequential()\n",
    "    \n",
    "    # first convo block\n",
    "    model.add(Conv2D(32,(5,5), activation='relu', input_shape = (28,28,1)))\n",
    "    model.add(BatchNormalization())\n",
    "    model.add(Conv2D(32,(5,5), activation='relu'))\n",
    "    model.add(MaxPooling2D(pool_size=(2,2)))\n",
    "    model.add(BatchNormalization())\n",
    "\n",
    "    # two convo block\n",
    "    model.add(Conv2D(64,(3,3),activation='relu'))\n",
    "    model.add(BatchNormalization())\n",
    "    model.add(Conv2D(64,(3,3),activation='relu'))\n",
    "    model.add(MaxPooling2D(pool_size=(2,2)))\n",
    "    model.add(BatchNormalization())\n",
    " \n",
    "    model.add(Flatten())\n",
    "    model.add(Dense(128, activation='relu'))\n",
    "    model.add(BatchNormalization())\n",
    "    model.add(Dropout(0.5))\n",
    "        \n",
    "    model.add(Dense(128, activation='relu'))\n",
    "    model.add(BatchNormalization())\n",
    "    model.add(Dropout(0.5))\n",
    "              \n",
    "    model.add(Dense(10,activation='softmax'))\n",
    "    \n",
    "    model.compile(optimizer='adam',loss='categorical_crossentropy',metrics=['accuracy'])\n",
    "    return model\n",
    "\n",
    "model = complex_conv_model()\n",
    "model.summary()"
   ]
  },
  {
   "cell_type": "markdown",
   "metadata": {},
   "source": [
    "### Fitting model"
   ]
  },
  {
   "cell_type": "code",
   "execution_count": 17,
   "metadata": {
    "collapsed": false
   },
   "outputs": [
    {
     "name": "stdout",
     "output_type": "stream",
     "text": [
      "Epoch 1/10\n",
      "937/937 [==============================] - 25s - loss: 0.5350 - acc: 0.8365 - val_loss: 0.0562 - val_acc: 0.9822\n",
      "Epoch 2/10\n",
      "937/937 [==============================] - 23s - loss: 0.1680 - acc: 0.9517 - val_loss: 0.0334 - val_acc: 0.9894\n",
      "Epoch 3/10\n",
      "937/937 [==============================] - 22s - loss: 0.1279 - acc: 0.9632 - val_loss: 0.0319 - val_acc: 0.9905\n",
      "Epoch 4/10\n",
      "937/937 [==============================] - 22s - loss: 0.1052 - acc: 0.9694 - val_loss: 0.0300 - val_acc: 0.9905\n",
      "Epoch 5/10\n",
      "937/937 [==============================] - 22s - loss: 0.0928 - acc: 0.9736 - val_loss: 0.0191 - val_acc: 0.9945\n",
      "Epoch 6/10\n",
      "937/937 [==============================] - 22s - loss: 0.0839 - acc: 0.9758 - val_loss: 0.0226 - val_acc: 0.9918\n",
      "Epoch 7/10\n",
      "937/937 [==============================] - 22s - loss: 0.0803 - acc: 0.9776 - val_loss: 0.0215 - val_acc: 0.9927\n",
      "Epoch 8/10\n",
      "937/937 [==============================] - 22s - loss: 0.0715 - acc: 0.9796 - val_loss: 0.0192 - val_acc: 0.9936\n",
      "Epoch 9/10\n",
      "937/937 [==============================] - 22s - loss: 0.0699 - acc: 0.9808 - val_loss: 0.0239 - val_acc: 0.9934\n",
      "Epoch 10/10\n",
      "937/937 [==============================] - 22s - loss: 0.0641 - acc: 0.9820 - val_loss: 0.0152 - val_acc: 0.9953\n"
     ]
    },
    {
     "data": {
      "text/plain": [
       "<keras.callbacks.History at 0x7f78e0a82f28>"
      ]
     },
     "execution_count": 17,
     "metadata": {},
     "output_type": "execute_result"
    }
   ],
   "source": [
    "model.fit_generator(train_generator,\n",
    "        steps_per_epoch = train_samples // batch_size,\n",
    "        epochs=10,\n",
    "        validation_data = validation_generator,\n",
    "        validation_steps = validation_samples // batch_size)"
   ]
  },
  {
   "cell_type": "markdown",
   "metadata": {
    "collapsed": true
   },
   "source": [
    "### Visual check on small sample"
   ]
  },
  {
   "cell_type": "code",
   "execution_count": 18,
   "metadata": {
    "collapsed": false
   },
   "outputs": [],
   "source": [
    "predictions = model.predict(x_test,1) \n",
    "predictions = [np.argmax(i) for i in np.round(predictions)]\n",
    "y_tst = [np.argmax(i) for i in y_test]"
   ]
  },
  {
   "cell_type": "code",
   "execution_count": 19,
   "metadata": {
    "collapsed": false
   },
   "outputs": [
    {
     "data": {
      "text/html": [
       "<div>\n",
       "<style>\n",
       "    .dataframe thead tr:only-child th {\n",
       "        text-align: right;\n",
       "    }\n",
       "\n",
       "    .dataframe thead th {\n",
       "        text-align: left;\n",
       "    }\n",
       "\n",
       "    .dataframe tbody tr th {\n",
       "        vertical-align: top;\n",
       "    }\n",
       "</style>\n",
       "<table border=\"1\" class=\"dataframe\">\n",
       "  <thead>\n",
       "    <tr style=\"text-align: right;\">\n",
       "      <th></th>\n",
       "      <th>predicted digitis</th>\n",
       "      <th>true digits</th>\n",
       "    </tr>\n",
       "  </thead>\n",
       "  <tbody>\n",
       "    <tr>\n",
       "      <th>0</th>\n",
       "      <td>7</td>\n",
       "      <td>7</td>\n",
       "    </tr>\n",
       "    <tr>\n",
       "      <th>1</th>\n",
       "      <td>2</td>\n",
       "      <td>2</td>\n",
       "    </tr>\n",
       "    <tr>\n",
       "      <th>2</th>\n",
       "      <td>1</td>\n",
       "      <td>1</td>\n",
       "    </tr>\n",
       "    <tr>\n",
       "      <th>3</th>\n",
       "      <td>0</td>\n",
       "      <td>0</td>\n",
       "    </tr>\n",
       "    <tr>\n",
       "      <th>4</th>\n",
       "      <td>4</td>\n",
       "      <td>4</td>\n",
       "    </tr>\n",
       "    <tr>\n",
       "      <th>5</th>\n",
       "      <td>1</td>\n",
       "      <td>1</td>\n",
       "    </tr>\n",
       "    <tr>\n",
       "      <th>6</th>\n",
       "      <td>4</td>\n",
       "      <td>4</td>\n",
       "    </tr>\n",
       "    <tr>\n",
       "      <th>7</th>\n",
       "      <td>9</td>\n",
       "      <td>9</td>\n",
       "    </tr>\n",
       "    <tr>\n",
       "      <th>8</th>\n",
       "      <td>5</td>\n",
       "      <td>5</td>\n",
       "    </tr>\n",
       "    <tr>\n",
       "      <th>9</th>\n",
       "      <td>9</td>\n",
       "      <td>9</td>\n",
       "    </tr>\n",
       "    <tr>\n",
       "      <th>10</th>\n",
       "      <td>0</td>\n",
       "      <td>0</td>\n",
       "    </tr>\n",
       "    <tr>\n",
       "      <th>11</th>\n",
       "      <td>6</td>\n",
       "      <td>6</td>\n",
       "    </tr>\n",
       "    <tr>\n",
       "      <th>12</th>\n",
       "      <td>9</td>\n",
       "      <td>9</td>\n",
       "    </tr>\n",
       "    <tr>\n",
       "      <th>13</th>\n",
       "      <td>0</td>\n",
       "      <td>0</td>\n",
       "    </tr>\n",
       "    <tr>\n",
       "      <th>14</th>\n",
       "      <td>1</td>\n",
       "      <td>1</td>\n",
       "    </tr>\n",
       "    <tr>\n",
       "      <th>15</th>\n",
       "      <td>5</td>\n",
       "      <td>5</td>\n",
       "    </tr>\n",
       "    <tr>\n",
       "      <th>16</th>\n",
       "      <td>9</td>\n",
       "      <td>9</td>\n",
       "    </tr>\n",
       "    <tr>\n",
       "      <th>17</th>\n",
       "      <td>7</td>\n",
       "      <td>7</td>\n",
       "    </tr>\n",
       "    <tr>\n",
       "      <th>18</th>\n",
       "      <td>3</td>\n",
       "      <td>3</td>\n",
       "    </tr>\n",
       "    <tr>\n",
       "      <th>19</th>\n",
       "      <td>4</td>\n",
       "      <td>4</td>\n",
       "    </tr>\n",
       "    <tr>\n",
       "      <th>20</th>\n",
       "      <td>9</td>\n",
       "      <td>9</td>\n",
       "    </tr>\n",
       "    <tr>\n",
       "      <th>21</th>\n",
       "      <td>6</td>\n",
       "      <td>6</td>\n",
       "    </tr>\n",
       "    <tr>\n",
       "      <th>22</th>\n",
       "      <td>6</td>\n",
       "      <td>6</td>\n",
       "    </tr>\n",
       "    <tr>\n",
       "      <th>23</th>\n",
       "      <td>5</td>\n",
       "      <td>5</td>\n",
       "    </tr>\n",
       "    <tr>\n",
       "      <th>24</th>\n",
       "      <td>4</td>\n",
       "      <td>4</td>\n",
       "    </tr>\n",
       "    <tr>\n",
       "      <th>25</th>\n",
       "      <td>0</td>\n",
       "      <td>0</td>\n",
       "    </tr>\n",
       "    <tr>\n",
       "      <th>26</th>\n",
       "      <td>7</td>\n",
       "      <td>7</td>\n",
       "    </tr>\n",
       "    <tr>\n",
       "      <th>27</th>\n",
       "      <td>4</td>\n",
       "      <td>4</td>\n",
       "    </tr>\n",
       "    <tr>\n",
       "      <th>28</th>\n",
       "      <td>0</td>\n",
       "      <td>0</td>\n",
       "    </tr>\n",
       "    <tr>\n",
       "      <th>29</th>\n",
       "      <td>1</td>\n",
       "      <td>1</td>\n",
       "    </tr>\n",
       "    <tr>\n",
       "      <th>30</th>\n",
       "      <td>3</td>\n",
       "      <td>3</td>\n",
       "    </tr>\n",
       "    <tr>\n",
       "      <th>31</th>\n",
       "      <td>1</td>\n",
       "      <td>1</td>\n",
       "    </tr>\n",
       "    <tr>\n",
       "      <th>32</th>\n",
       "      <td>3</td>\n",
       "      <td>3</td>\n",
       "    </tr>\n",
       "    <tr>\n",
       "      <th>33</th>\n",
       "      <td>4</td>\n",
       "      <td>4</td>\n",
       "    </tr>\n",
       "    <tr>\n",
       "      <th>34</th>\n",
       "      <td>7</td>\n",
       "      <td>7</td>\n",
       "    </tr>\n",
       "    <tr>\n",
       "      <th>35</th>\n",
       "      <td>2</td>\n",
       "      <td>2</td>\n",
       "    </tr>\n",
       "    <tr>\n",
       "      <th>36</th>\n",
       "      <td>7</td>\n",
       "      <td>7</td>\n",
       "    </tr>\n",
       "    <tr>\n",
       "      <th>37</th>\n",
       "      <td>1</td>\n",
       "      <td>1</td>\n",
       "    </tr>\n",
       "    <tr>\n",
       "      <th>38</th>\n",
       "      <td>2</td>\n",
       "      <td>2</td>\n",
       "    </tr>\n",
       "    <tr>\n",
       "      <th>39</th>\n",
       "      <td>1</td>\n",
       "      <td>1</td>\n",
       "    </tr>\n",
       "    <tr>\n",
       "      <th>40</th>\n",
       "      <td>1</td>\n",
       "      <td>1</td>\n",
       "    </tr>\n",
       "    <tr>\n",
       "      <th>41</th>\n",
       "      <td>7</td>\n",
       "      <td>7</td>\n",
       "    </tr>\n",
       "    <tr>\n",
       "      <th>42</th>\n",
       "      <td>4</td>\n",
       "      <td>4</td>\n",
       "    </tr>\n",
       "    <tr>\n",
       "      <th>43</th>\n",
       "      <td>2</td>\n",
       "      <td>2</td>\n",
       "    </tr>\n",
       "    <tr>\n",
       "      <th>44</th>\n",
       "      <td>3</td>\n",
       "      <td>3</td>\n",
       "    </tr>\n",
       "    <tr>\n",
       "      <th>45</th>\n",
       "      <td>5</td>\n",
       "      <td>5</td>\n",
       "    </tr>\n",
       "    <tr>\n",
       "      <th>46</th>\n",
       "      <td>1</td>\n",
       "      <td>1</td>\n",
       "    </tr>\n",
       "    <tr>\n",
       "      <th>47</th>\n",
       "      <td>2</td>\n",
       "      <td>2</td>\n",
       "    </tr>\n",
       "    <tr>\n",
       "      <th>48</th>\n",
       "      <td>4</td>\n",
       "      <td>4</td>\n",
       "    </tr>\n",
       "    <tr>\n",
       "      <th>49</th>\n",
       "      <td>4</td>\n",
       "      <td>4</td>\n",
       "    </tr>\n",
       "  </tbody>\n",
       "</table>\n",
       "</div>"
      ],
      "text/plain": [
       "    predicted digitis  true digits\n",
       "0                   7            7\n",
       "1                   2            2\n",
       "2                   1            1\n",
       "3                   0            0\n",
       "4                   4            4\n",
       "5                   1            1\n",
       "6                   4            4\n",
       "7                   9            9\n",
       "8                   5            5\n",
       "9                   9            9\n",
       "10                  0            0\n",
       "11                  6            6\n",
       "12                  9            9\n",
       "13                  0            0\n",
       "14                  1            1\n",
       "15                  5            5\n",
       "16                  9            9\n",
       "17                  7            7\n",
       "18                  3            3\n",
       "19                  4            4\n",
       "20                  9            9\n",
       "21                  6            6\n",
       "22                  6            6\n",
       "23                  5            5\n",
       "24                  4            4\n",
       "25                  0            0\n",
       "26                  7            7\n",
       "27                  4            4\n",
       "28                  0            0\n",
       "29                  1            1\n",
       "30                  3            3\n",
       "31                  1            1\n",
       "32                  3            3\n",
       "33                  4            4\n",
       "34                  7            7\n",
       "35                  2            2\n",
       "36                  7            7\n",
       "37                  1            1\n",
       "38                  2            2\n",
       "39                  1            1\n",
       "40                  1            1\n",
       "41                  7            7\n",
       "42                  4            4\n",
       "43                  2            2\n",
       "44                  3            3\n",
       "45                  5            5\n",
       "46                  1            1\n",
       "47                  2            2\n",
       "48                  4            4\n",
       "49                  4            4"
      ]
     },
     "execution_count": 19,
     "metadata": {},
     "output_type": "execute_result"
    }
   ],
   "source": [
    "pd.DataFrame({'true digits':y_tst[:50],\n",
    "              'predicted digitis':predictions[:50]})"
   ]
  }
 ],
 "metadata": {
  "anaconda-cloud": {},
  "kernelspec": {
   "display_name": "Python [conda env:deepenv]",
   "language": "python",
   "name": "conda-env-deepenv-py"
  },
  "language_info": {
   "codemirror_mode": {
    "name": "ipython",
    "version": 3
   },
   "file_extension": ".py",
   "mimetype": "text/x-python",
   "name": "python",
   "nbconvert_exporter": "python",
   "pygments_lexer": "ipython3",
   "version": "3.5.3"
  }
 },
 "nbformat": 4,
 "nbformat_minor": 1
}
